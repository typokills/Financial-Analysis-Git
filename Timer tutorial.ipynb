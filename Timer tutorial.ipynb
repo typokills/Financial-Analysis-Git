{
 "cells": [
  {
   "cell_type": "markdown",
   "id": "d4124de0",
   "metadata": {},
   "source": [
    "# Creating the Timer class\n",
    "\n",
    "Note: The underscore (_) prefix of ._start_time is a Python convention. It signals that ._start_time is an internal attribute that users of the Timer class shouldn’t manipulate."
   ]
  },
  {
   "cell_type": "code",
   "execution_count": 1,
   "id": "9e495054",
   "metadata": {},
   "outputs": [],
   "source": [
    "import time\n",
    "\n",
    "class TimerError(Exception):\n",
    "    \"\"\"A custom exception used to report errors in use of Timer class\"\"\"\n",
    "\n",
    "class Timer:\n",
    "    def __init__(self):\n",
    "        self._start_time = None\n",
    "\n",
    "    def start(self):\n",
    "        \"\"\"Start a new timer\"\"\"\n",
    "        if self._start_time is not None:\n",
    "            raise TimerError(f\"Timer is running. Use .stop() to stop it\")\n",
    "\n",
    "        self._start_time = time.perf_counter()\n",
    "\n",
    "    def stop(self):\n",
    "        \"\"\"Stop the timer, and report the elapsed time\"\"\"\n",
    "        if self._start_time is None:\n",
    "            raise TimerError(f\"Timer is not running. Use .start() to start it\")\n",
    "\n",
    "        elapsed_time = time.perf_counter() - self._start_time\n",
    "        self._start_time = None\n",
    "        print(f\"Elapsed time: {elapsed_time:0.4f} seconds\")"
   ]
  },
  {
   "cell_type": "markdown",
   "id": "8a2c2247",
   "metadata": {},
   "source": [
    "# Adding adaptable text\n",
    "\n",
    "Note: If you want to use an f-string to specify .text, then you need to use double curly braces to escape the curly braces that the actual elapsed time will replace.\n",
    "\n",
    "One example would be f\"Finished {task} in {{:0.4f}} seconds\". If the value of task is \"reading\", then this f-string would be evaluated as \"Finished reading in {:0.4f} seconds\"."
   ]
  },
  {
   "cell_type": "code",
   "execution_count": 2,
   "id": "a1646a66",
   "metadata": {},
   "outputs": [
    {
     "name": "stdout",
     "output_type": "stream",
     "text": [
      "You waited 1.0 seconds\n"
     ]
    }
   ],
   "source": [
    "import time\n",
    "\n",
    "class TimerError(Exception):\n",
    "    \"\"\"A custom exception used to report errors in use of Timer class\"\"\"\n",
    "\n",
    "class Timer:\n",
    "    def __init__(self, text=\"Elapsed time: {:0.4f} seconds\"):\n",
    "        self._start_time = None\n",
    "        self.text = text\n",
    "\n",
    "    def start(self):\n",
    "        \"\"\"Start a new timer\"\"\"\n",
    "        if self._start_time is not None:\n",
    "            raise TimerError(f\"Timer is running. Use .stop() to stop it\")\n",
    "\n",
    "        self._start_time = time.perf_counter()\n",
    "\n",
    "    def stop(self):\n",
    "        \"\"\"Stop the timer, and report the elapsed time\"\"\"\n",
    "        if self._start_time is None:\n",
    "            raise TimerError(f\"Timer is not running. Use .start() to start it\")\n",
    "\n",
    "        elapsed_time = time.perf_counter() - self._start_time\n",
    "        self._start_time = None\n",
    "        print(self.text.format(elapsed_time))\n",
    "        \n",
    "t = Timer(text=\"You waited {:.1f} seconds\")\n",
    "t.start()\n",
    "time.sleep(1)\n",
    "t.stop()  # A few seconds later"
   ]
  },
  {
   "cell_type": "markdown",
   "id": "ea4074f4",
   "metadata": {},
   "source": [
    "# Adding logging functions"
   ]
  },
  {
   "cell_type": "code",
   "execution_count": 3,
   "id": "bb5c27a4",
   "metadata": {},
   "outputs": [
    {
     "name": "stderr",
     "output_type": "stream",
     "text": [
      "WARNING:root:Elapsed time: 0.0000 seconds\n"
     ]
    },
    {
     "data": {
      "text/plain": [
       "2.1000000000270802e-05"
      ]
     },
     "execution_count": 3,
     "metadata": {},
     "output_type": "execute_result"
    }
   ],
   "source": [
    "import logging\n",
    "\n",
    "class Timer:\n",
    "    def __init__(\n",
    "        self,                                 \n",
    "        text=\"Elapsed time: {:0.4f} seconds\",\n",
    "        logger=print #New\n",
    "    ):\n",
    "        self._start_time = None\n",
    "        self.text = text\n",
    "        self.logger = logger #New\n",
    "\n",
    "    # Other methods are unchanged\n",
    "    def start(self):\n",
    "        \"\"\"Start a new timer\"\"\"\n",
    "        if self._start_time is not None:\n",
    "            raise TimerError(f\"Timer is running. Use .stop() to stop it\")\n",
    "\n",
    "        self._start_time = time.perf_counter()\n",
    "\n",
    "    def stop(self):\n",
    "        \"\"\"Stop the timer, and report the elapsed time\"\"\"\n",
    "        if self._start_time is None:\n",
    "            raise TimerError(f\"Timer is not running. Use .start() to start it\")\n",
    "\n",
    "        elapsed_time = time.perf_counter() - self._start_time\n",
    "        self._start_time = None\n",
    "\n",
    "        if self.logger: #New If you pass None, it wont print.\n",
    "            self.logger(self.text.format(elapsed_time)) \n",
    "\n",
    "        return elapsed_time\n",
    "    \n",
    "t = Timer(logger=logging.warning)\n",
    "t.start()\n",
    "t.stop()"
   ]
  },
  {
   "cell_type": "markdown",
   "id": "25b17d72",
   "metadata": {},
   "source": [
    "# Adding time measurements\n",
    "\n",
    "- Class variables can be accessed either directly on the class or through an instance of the class\n",
    "\n",
    "- Used to keep track of multiple timers"
   ]
  },
  {
   "cell_type": "code",
   "execution_count": 4,
   "id": "fdfcfcf8",
   "metadata": {},
   "outputs": [],
   "source": [
    "import logging\n",
    "\n",
    "class Timer:\n",
    "    \n",
    "    timers = {} #NEW: class variable so all instances of Timer will share it\n",
    "    \n",
    "    def __init__(\n",
    "        self,\n",
    "        name = None,\n",
    "        text=\"Elapsed time: {:0.4f} seconds\",\n",
    "        logger=print \n",
    "    ):\n",
    "        \n",
    "        self._start_time = None\n",
    "        self.name = name\n",
    "        self.text = text\n",
    "        self.logger = logger \n",
    "        \n",
    "    # Add new named timers to dictionary of timers\n",
    "        if name:\n",
    "            self.timers.setdefault(name,0)\n",
    "    \n",
    "    # Other methods are unchanged\n",
    "    def start(self):\n",
    "        \"\"\"Start a new timer\"\"\"\n",
    "        if self._start_time is not None:\n",
    "            raise TimerError(f\"Timer is running. Use .stop() to stop it\")\n",
    "\n",
    "        self._start_time = time.perf_counter()\n",
    "\n",
    "    def stop(self):\n",
    "        \"\"\"Stop the timer, and report the elapsed time\"\"\"\n",
    "        if self._start_time is None:\n",
    "            raise TimerError(f\"Timer is not running. Use .start() to start it\")\n",
    "\n",
    "        elapsed_time = time.perf_counter() - self._start_time\n",
    "        self._start_time = None\n",
    "\n",
    "        if self.logger: #If you pass None, it wont print.\n",
    "            self.logger(self.text.format(elapsed_time)) \n",
    "            \n",
    "        if self.name:\n",
    "            self.timers[self.name] += elapsed_time\n",
    "\n",
    "        return elapsed_time"
   ]
  },
  {
   "cell_type": "code",
   "execution_count": 5,
   "id": "ee3edd07",
   "metadata": {},
   "outputs": [
    {
     "data": {
      "text/plain": [
       "{}"
      ]
     },
     "execution_count": 5,
     "metadata": {},
     "output_type": "execute_result"
    }
   ],
   "source": [
    "# Accessing through Class\n",
    "Timer.timers\n",
    "\n",
    "#Accessing thru instance\n",
    "t = Timer()\n",
    "t.timers"
   ]
  },
  {
   "cell_type": "code",
   "execution_count": 6,
   "id": "ad29bad1",
   "metadata": {},
   "outputs": [
    {
     "name": "stdout",
     "output_type": "stream",
     "text": [
      "Elapsed time: 0.0000 seconds\n",
      "{'accumulate': 2.2299999999475517e-05}\n"
     ]
    }
   ],
   "source": [
    "t = Timer(\"accumulate\")\n",
    "t.start()\n",
    "t.stop()\n",
    "print(Timer.timers)"
   ]
  },
  {
   "cell_type": "markdown",
   "id": "0d15dd24",
   "metadata": {},
   "source": [
    "# Changing timer class to dataclass\n",
    "\n",
    "- The @dataclass decorator defines Timer as a data class.\n",
    "\n",
    "- The special ClassVar annotation is necessary for data classes to specify that .timers is a class variable.\n",
    "\n",
    "- .name, .text, and .logger will be defined as attributes on Timer, whose values can be specified when creating Timer instances. They all have the given default values.\n",
    "\n",
    "- Recall that ._start_time is a special attribute that’s used to keep track of the state of the Python timer, but it should be hidden from the user. Using dataclasses.field(), you say that ._start_time should be removed from .__init__() and the representation of Timer.\n",
    "\n",
    "- You can use the special .__post_init__() method for any initialization that you need to do apart from setting the instance attributes. Here, you use it to add named timers to .timers.\n"
   ]
  },
  {
   "cell_type": "code",
   "execution_count": 7,
   "id": "5ab092f5",
   "metadata": {},
   "outputs": [
    {
     "data": {
      "text/plain": [
       "<__main__.Timer at 0x136130577b8>"
      ]
     },
     "execution_count": 7,
     "metadata": {},
     "output_type": "execute_result"
    }
   ],
   "source": [
    "t = Timer()\n",
    "t"
   ]
  },
  {
   "cell_type": "code",
   "execution_count": 8,
   "id": "4725ef81",
   "metadata": {},
   "outputs": [],
   "source": [
    "import logging\n",
    "import time\n",
    "from dataclasses import dataclass, field\n",
    "from typing import Any, ClassVar\n",
    "\n",
    "@dataclass\n",
    "class Timer:\n",
    "    \n",
    "#New: Replaces .__init__() --------------------------------------\n",
    "    \n",
    "    \n",
    "    timers: ClassVar = {} #Necessary to indicate classvariable\n",
    "    name: Any = None\n",
    "    text: Any = \"Elapsed time: {:0.4f} seconds\"\n",
    "    logger: Any = print\n",
    "    _start_time: Any = field(default=None, init=False, repr=False) #\n",
    "\n",
    "    def __post_init__(self):\n",
    "        \"\"\"Initialization: add timer to dict of timers\"\"\"\n",
    "        if self.name:\n",
    "            self.timers.setdefault(self.name, 0)\n",
    "        \n",
    "        self._start_time = None\n",
    "        self.name = name\n",
    "        self.text = text\n",
    "        self.logger = logger \n",
    "#-------------------------------------------------------------\n",
    "\n",
    "    # Add new named timers to dictionary of timers\n",
    "        if name:\n",
    "            self.timers.setdefault(name,0)\n",
    "    \n",
    "    # Other methods are unchanged\n",
    "    def start(self):\n",
    "        \"\"\"Start a new timer\"\"\"\n",
    "        if self._start_time is not None:\n",
    "            raise TimerError(f\"Timer is running. Use .stop() to stop it\")\n",
    "\n",
    "        self._start_time = time.perf_counter()\n",
    "\n",
    "    def stop(self):\n",
    "        \"\"\"Stop the timer, and report the elapsed time\"\"\"\n",
    "        if self._start_time is None:\n",
    "            raise TimerError(f\"Timer is not running. Use .start() to start it\")\n",
    "\n",
    "        elapsed_time = time.perf_counter() - self._start_time\n",
    "        self._start_time = None\n",
    "\n",
    "        if self.logger: #If you pass None, it wont print.\n",
    "            self.logger(self.text.format(elapsed_time)) \n",
    "            \n",
    "        if self.name:\n",
    "            self.timers[self.name] += elapsed_time\n",
    "\n",
    "        return elapsed_time"
   ]
  },
  {
   "cell_type": "code",
   "execution_count": 9,
   "id": "828dac46",
   "metadata": {},
   "outputs": [
    {
     "name": "stdout",
     "output_type": "stream",
     "text": [
      "1\n"
     ]
    }
   ],
   "source": [
    "print(1)"
   ]
  },
  {
   "cell_type": "markdown",
   "id": "3ae2f6f7",
   "metadata": {},
   "source": [
    "# Touch ups\n",
    "\n",
    "- Readability: Your code will read more naturally if you carefully choose class and method names.\n",
    "- Consistency: Your code will be easier to use if you encapsulate properties and behaviors into attributes and methods.\n",
    "- Flexibility: Your code will be reusable if you use attributes with default values instead of hard-coded values."
   ]
  },
  {
   "cell_type": "code",
   "execution_count": 10,
   "id": "ab381237",
   "metadata": {},
   "outputs": [],
   "source": [
    "from dataclasses import dataclass, field\n",
    "import time\n",
    "from typing import Callable, ClassVar, Dict, Optional\n",
    "\n",
    "class TimerError(Exception):\n",
    "    \"\"\"A custom exception used to report errors in use of Timer class\"\"\"\n",
    "\n",
    "@dataclass\n",
    "class Timer:\n",
    "    timers: ClassVar[Dict[str, float]] = {}\n",
    "    name: Optional[str] = None\n",
    "    text: str = \"Elapsed time: {:0.4f} seconds\"\n",
    "    logger: Optional[Callable[[str], None]] = print\n",
    "    _start_time: Optional[float] = field(default=None, init=False, repr=False)\n",
    "\n",
    "    def __post_init__(self) -> None:\n",
    "        \"\"\"Add timer to dict of timers after initialization\"\"\"\n",
    "        if self.name is not None:\n",
    "            self.timers.setdefault(self.name, 0)\n",
    "\n",
    "    def start(self) -> None:\n",
    "        \"\"\"Start a new timer\"\"\"\n",
    "        if self._start_time is not None:\n",
    "            raise TimerError(f\"Timer is running. Use .stop() to stop it\")\n",
    "\n",
    "        self._start_time = time.perf_counter()\n",
    "\n",
    "    def stop(self) -> float:\n",
    "        \"\"\"Stop the timer, and report the elapsed time\"\"\"\n",
    "        if self._start_time is None:\n",
    "            raise TimerError(f\"Timer is not running. Use .start() to start it\")\n",
    "\n",
    "        # Calculate elapsed time\n",
    "        elapsed_time = time.perf_counter() - self._start_time\n",
    "        self._start_time = None\n",
    "\n",
    "        # Report elapsed time\n",
    "        if self.logger:\n",
    "            self.logger(self.text.format(elapsed_time))\n",
    "        if self.name:\n",
    "            self.timers[self.name] += elapsed_time\n",
    "\n",
    "        return elapsed_time"
   ]
  },
  {
   "cell_type": "markdown",
   "id": "5df645b3",
   "metadata": {},
   "source": [
    "# Python Timer Context Manager\n",
    "\n",
    ".__enter__() called before running code\n",
    "\n",
    ".__exit__() called after\n",
    "\n",
    ".__exit__() takes three arguments: exc_type, exc_value, and exc_tb used for error handling.\n",
    "\n",
    "exit is called before exception/error is raised in the code."
   ]
  },
  {
   "cell_type": "code",
   "execution_count": 11,
   "id": "1d88e0d6",
   "metadata": {},
   "outputs": [],
   "source": [
    "# greeter.py\n",
    "\n",
    "class Greeter:\n",
    "    def __init__(self, name):\n",
    "        self.name = name\n",
    "\n",
    "    def __enter__(self):\n",
    "        print(f\"Hello {self.name}\")\n",
    "        return self\n",
    "\n",
    "    def __exit__(self, exc_type, exc_value, exc_tb):\n",
    "        print(f\"See you later, {self.name}\")"
   ]
  },
  {
   "cell_type": "code",
   "execution_count": 12,
   "id": "adce7fae",
   "metadata": {},
   "outputs": [
    {
     "name": "stdout",
     "output_type": "stream",
     "text": [
      "Hello Akshay\n",
      "Doing stuff ...\n",
      "See you later, Akshay\n"
     ]
    }
   ],
   "source": [
    "with Greeter(\"Akshay\"):\n",
    "    print(\"Doing stuff ...\")"
   ]
  },
  {
   "cell_type": "code",
   "execution_count": 13,
   "id": "b6d5490d",
   "metadata": {},
   "outputs": [],
   "source": [
    "class TimerError(Exception):\n",
    "    \"\"\"A custom exception used to report errors in use of Timer class\"\"\"\n",
    "\n",
    "@dataclass\n",
    "class Timer:\n",
    "    timers: ClassVar[Dict[str, float]] = {}\n",
    "    name: Optional[str] = None\n",
    "    text: str = \"Elapsed time: {:0.4f} seconds\"\n",
    "    logger: Optional[Callable[[str], None]] = print\n",
    "    _start_time: Optional[float] = field(default=None, init=False, repr=False)\n",
    "\n",
    "    def __post_init__(self) -> None:\n",
    "        \"\"\"Add timer to dict of timers after initialization\"\"\"\n",
    "        if self.name is not None:\n",
    "            self.timers.setdefault(self.name, 0)\n",
    "\n",
    "    def start(self) -> None:\n",
    "        \"\"\"Start a new timer\"\"\"\n",
    "        if self._start_time is not None:\n",
    "            raise TimerError(f\"Timer is running. Use .stop() to stop it\")\n",
    "\n",
    "        self._start_time = time.perf_counter()\n",
    "\n",
    "    def stop(self) -> float:\n",
    "        \"\"\"Stop the timer, and report the elapsed time\"\"\"\n",
    "        if self._start_time is None:\n",
    "            raise TimerError(f\"Timer is not running. Use .start() to start it\")\n",
    "\n",
    "        # Calculate elapsed time\n",
    "        elapsed_time = time.perf_counter() - self._start_time\n",
    "        self._start_time = None\n",
    "\n",
    "        # Report elapsed time\n",
    "        if self.logger:\n",
    "            self.logger(self.text.format(elapsed_time))\n",
    "        if self.name:\n",
    "            self.timers[self.name] += elapsed_time\n",
    "        return elapsed_time\n",
    "            \n",
    "    def __enter__(self):\n",
    "        \"\"\"Start a new timer as a context manager\"\"\"\n",
    "        self.start()\n",
    "        return self\n",
    "    \n",
    "    def __exit__(self, *exc_info):\n",
    "        \"\"\"Stop the context manager timer\"\"\"\n",
    "        self.stop()\n",
    "\n"
   ]
  },
  {
   "cell_type": "code",
   "execution_count": 14,
   "id": "fa0b889b",
   "metadata": {},
   "outputs": [
    {
     "name": "stdout",
     "output_type": "stream",
     "text": [
      "Elapsed time: 0.7005 seconds\n"
     ]
    }
   ],
   "source": [
    "with Timer():\n",
    "    time.sleep(0.7)"
   ]
  },
  {
   "cell_type": "markdown",
   "id": "0b21089c",
   "metadata": {},
   "source": [
    "# Decorators\n",
    "A decorator is a function that wraps another function to modify its behavior. This technique is possible because functions are first-class objects in Python. In other words, functions can be assigned to variables and used as arguments to other functions, just like any other object. This gives you a lot of flexibility and is the basis for several of Python’s most powerful features.\n",
    "\n",
    "First, note that turn_off() is just a regular function. What makes this a decorator is that it takes a function as its only argument and returns a function. You can use turn_off() to modify other functions, like this:"
   ]
  },
  {
   "cell_type": "code",
   "execution_count": 15,
   "id": "23401e02",
   "metadata": {},
   "outputs": [],
   "source": [
    "#Random decorator that does nothing\n",
    "def turn_off(func):\n",
    "    return lambda *args, **kwargs: None"
   ]
  },
  {
   "cell_type": "markdown",
   "id": "2d4bbdc0",
   "metadata": {},
   "source": [
    "The line print = turn_off(print) decorates the print statement with the turn_off() decorator. Effectively, it replaces print() with lambda *args, **kwargs: None returned by turn_off()."
   ]
  },
  {
   "cell_type": "code",
   "execution_count": 20,
   "id": "ae398353",
   "metadata": {},
   "outputs": [],
   "source": [
    "print(\"Hello\")\n",
    "\n",
    "\n",
    "print = turn_off(print)\n",
    "print(\"Hush\")\n",
    "# Nothing is printed"
   ]
  },
  {
   "cell_type": "markdown",
   "id": "950c61a3",
   "metadata": {},
   "source": [
    "# Inner Functions\n",
    "An inner function is a function that’s defined inside another function. One common use of inner functions is to create function factories:\n",
    "\n",
    "multiplier() is an inner function, defined inside create_multiplier(). Note that you have access to factor inside multiplier(), while multiplier() isn’t defined outside create_multiplier():"
   ]
  },
  {
   "cell_type": "code",
   "execution_count": 16,
   "id": "83281694",
   "metadata": {},
   "outputs": [],
   "source": [
    "def create_multiplier(factor):\n",
    "    def multiplier(num):\n",
    "        return factor * num\n",
    "    return multiplier"
   ]
  },
  {
   "cell_type": "code",
   "execution_count": 17,
   "id": "ae2f9625",
   "metadata": {},
   "outputs": [],
   "source": [
    "# multiplier\n",
    "# NameError: name 'multiplier' is not defined\n"
   ]
  },
  {
   "cell_type": "markdown",
   "id": "96c87b09",
   "metadata": {},
   "source": [
    "Instead you use create_multiplier() to create new multiplier functions, each based on a different factor:"
   ]
  },
  {
   "cell_type": "code",
   "execution_count": 18,
   "id": "ec2f96d5",
   "metadata": {},
   "outputs": [
    {
     "data": {
      "text/plain": [
       "6"
      ]
     },
     "execution_count": 18,
     "metadata": {},
     "output_type": "execute_result"
    }
   ],
   "source": [
    "double = create_multiplier(factor=2)\n",
    "double(3)"
   ]
  },
  {
   "cell_type": "markdown",
   "id": "f634c67d",
   "metadata": {},
   "source": [
    "Similarly, you can use inner functions to create decorators. Remember, a decorator is a function that returns a function:\n",
    "\n",
    "triple() is a decorator, because it’s a function that expects a function, func(), as its only argument and returns another function, wrapper_triple(). Note the structure of triple() itself:\n",
    "\n",
    "The parameters are *args and **kwargs, which collect whichever positional and keyword arguments you pass to the function. This gives you the flexibility to use triple() on any function."
   ]
  },
  {
   "cell_type": "code",
   "execution_count": 17,
   "id": "662ad475",
   "metadata": {},
   "outputs": [],
   "source": [
    "def triple(func):\n",
    "    def wrapper_triple(*args, **kwargs):\n",
    "        print(f\"Tripled {func.__name__!r}\")\n",
    "        value = func(*args, **kwargs)\n",
    "        return value * 3\n",
    "    return wrapper_triple"
   ]
  },
  {
   "cell_type": "code",
   "execution_count": 18,
   "id": "fd556e9a",
   "metadata": {},
   "outputs": [
    {
     "data": {
      "text/plain": [
       "'Penny! Penny! Penny! '"
      ]
     },
     "execution_count": 18,
     "metadata": {},
     "output_type": "execute_result"
    }
   ],
   "source": [
    "def knock():\n",
    "    return \"Penny! \"\n",
    "knock = triple(knock)\n",
    "result = knock()\n",
    "result"
   ]
  },
  {
   "cell_type": "code",
   "execution_count": 19,
   "id": "db411428",
   "metadata": {},
   "outputs": [
    {
     "data": {
      "text/plain": [
       "'Penny! Penny! Penny! '"
      ]
     },
     "execution_count": 19,
     "metadata": {},
     "output_type": "execute_result"
    }
   ],
   "source": [
    "@triple\n",
    "def knock():\n",
    "    return \"Penny! \"\n",
    "result = knock()\n",
    "result"
   ]
  },
  {
   "cell_type": "markdown",
   "id": "9216edd3",
   "metadata": {},
   "source": [
    "@triple decorates knock(), which is then replaced by the wrapper_triple() inner function, as the output above confirms. This will also replace the name, docstring, and other metadata. Often, this won’t have much effect, but it can make introspection difficult.\n",
    "\n",
    "Sometimes, decorated functions must have correct metadata. @functools.wraps fixes exactly this issue:"
   ]
  },
  {
   "cell_type": "code",
   "execution_count": 22,
   "id": "fce06729",
   "metadata": {},
   "outputs": [],
   "source": [
    "import functools\n",
    "\n",
    "def triple(func):\n",
    "    @functools.wraps(func)\n",
    "    def wrapper_triple(*args, **kwargs):\n",
    "        print(f\"Tripled {func.__name__!r}\")\n",
    "        value = func(*args, **kwargs)\n",
    "        return value * 3\n",
    "    return wrapper_triple"
   ]
  },
  {
   "cell_type": "code",
   "execution_count": 23,
   "id": "245c6bb1",
   "metadata": {},
   "outputs": [
    {
     "data": {
      "text/plain": [
       "'Penny! Penny! Penny! '"
      ]
     },
     "execution_count": 23,
     "metadata": {},
     "output_type": "execute_result"
    }
   ],
   "source": [
    "def hi(func):\n",
    "    def wrapper_hi(*args,**kwargs):\n",
    "        print(\"hello\")\n",
    "        value = func(*args, **kwargs)\n",
    "        return value * 3\n",
    "    return wrapper_hi\n",
    "\n",
    "@hi\n",
    "def knock():\n",
    "    return \"Penny! \"\n",
    "\n",
    "knock()"
   ]
  },
  {
   "cell_type": "code",
   "execution_count": 24,
   "id": "75ffa610",
   "metadata": {},
   "outputs": [],
   "source": [
    "def make_pretty(func):\n",
    "    def inner():\n",
    "        print(\"I got decorated\")\n",
    "        func()\n",
    "    return inner\n",
    "\n",
    "\n",
    "def ordinary():\n",
    "    print(\"I am ordinary\")\n",
    "\n",
    "print('hello')"
   ]
  },
  {
   "cell_type": "code",
   "execution_count": 33,
   "id": "dd8771bd",
   "metadata": {},
   "outputs": [],
   "source": [
    "print('hello')"
   ]
  },
  {
   "cell_type": "code",
   "execution_count": 25,
   "id": "6e5d8967",
   "metadata": {},
   "outputs": [
    {
     "data": {
      "text/plain": [
       "'Penny! Penny! Penny! '"
      ]
     },
     "execution_count": 25,
     "metadata": {},
     "output_type": "execute_result"
    }
   ],
   "source": [
    "@triple\n",
    "def knock():\n",
    "    return \"Penny! \"\n",
    "\n",
    "knock()"
   ]
  },
  {
   "cell_type": "code",
   "execution_count": 26,
   "id": "8fdb74e8",
   "metadata": {},
   "outputs": [],
   "source": [
    "#Template \n",
    "import functools\n",
    "\n",
    "def decorator(func):\n",
    "    @functools.wraps(func)\n",
    "    def wrapper_decorator(*args, **kwargs):\n",
    "        # Do something before\n",
    "        value = func(*args, **kwargs)\n",
    "        # Do something after\n",
    "        return value\n",
    "    return wrapper_decorator"
   ]
  },
  {
   "cell_type": "markdown",
   "id": "9bbc60e6",
   "metadata": {},
   "source": [
    "# Applying decorators to timer class"
   ]
  },
  {
   "cell_type": "code",
   "execution_count": 27,
   "id": "efdc9a79",
   "metadata": {},
   "outputs": [],
   "source": [
    "import functools\n",
    "import time\n",
    "\n",
    "def timer(func):\n",
    "    @functools.wraps(func)\n",
    "    def wrapper_timer(*args, **kwargs):\n",
    "        tic = time.perf_counter()\n",
    "        value = func(*args, **kwargs)\n",
    "        toc = time.perf_counter()\n",
    "        elapsed_time = toc - tic\n",
    "        print(f\"Elapsed time: {elapsed_time:0.4f} seconds\")\n",
    "        return value\n",
    "    return wrapper_timer\n",
    "\n",
    "\n",
    "#This decorator doenst work for some reason"
   ]
  },
  {
   "cell_type": "code",
   "execution_count": 28,
   "id": "8ff14d3b",
   "metadata": {},
   "outputs": [
    {
     "data": {
      "text/plain": [
       "1"
      ]
     },
     "execution_count": 28,
     "metadata": {},
     "output_type": "execute_result"
    }
   ],
   "source": [
    "@timer\n",
    "def say_hi():\n",
    "    return 1\n",
    "say_hi()"
   ]
  },
  {
   "cell_type": "code",
   "execution_count": null,
   "id": "401ce399",
   "metadata": {},
   "outputs": [],
   "source": []
  },
  {
   "cell_type": "code",
   "execution_count": null,
   "id": "9de43b92",
   "metadata": {},
   "outputs": [],
   "source": []
  },
  {
   "cell_type": "markdown",
   "id": "878fc6bd",
   "metadata": {},
   "source": [
    "# Converting your class to callables (functions)"
   ]
  },
  {
   "cell_type": "code",
   "execution_count": 29,
   "id": "409d120f",
   "metadata": {},
   "outputs": [
    {
     "data": {
      "text/plain": [
       "16"
      ]
     },
     "execution_count": 29,
     "metadata": {},
     "output_type": "execute_result"
    }
   ],
   "source": [
    "def sq(num):\n",
    "    return num ** 2\n",
    "print(sq(4))\n",
    "\n",
    "class Sqer:\n",
    "    def __call__(self,num):\n",
    "        return num ** 2\n",
    "square = Sqer()\n",
    "square(4)"
   ]
  },
  {
   "cell_type": "code",
   "execution_count": 30,
   "id": "5be076af",
   "metadata": {},
   "outputs": [],
   "source": [
    "class TimerError(Exception):\n",
    "    \"\"\"A custom exception used to report errors in use of Timer class\"\"\"\n",
    "\n",
    "@dataclass\n",
    "class Timer:\n",
    "    timers: ClassVar[Dict[str, float]] = {}\n",
    "    name: Optional[str] = None\n",
    "    text: str = \"Elapsed time: {:0.4f} seconds\"\n",
    "    logger: Optional[Callable[[str], None]] = print\n",
    "    _start_time: Optional[float] = field(default=None, init=False, repr=False)\n",
    "\n",
    "    def __post_init__(self) -> None:\n",
    "        \"\"\"Add timer to dict of timers after initialization\"\"\"\n",
    "        if self.name is not None:\n",
    "            self.timers.setdefault(self.name, 0)\n",
    "\n",
    "    def start(self) -> None:\n",
    "        \"\"\"Start a new timer\"\"\"\n",
    "        if self._start_time is not None:\n",
    "            raise TimerError(f\"Timer is running. Use .stop() to stop it\")\n",
    "\n",
    "        self._start_time = time.perf_counter()\n",
    "\n",
    "    def stop(self) -> float:\n",
    "        \"\"\"Stop the timer, and report the elapsed time\"\"\"\n",
    "        if self._start_time is None:\n",
    "            raise TimerError(f\"Timer is not running. Use .start() to start it\")\n",
    "\n",
    "        # Calculate elapsed time\n",
    "        elapsed_time = time.perf_counter() - self._start_time\n",
    "        self._start_time = None\n",
    "\n",
    "        # Report elapsed time\n",
    "        if self.logger:\n",
    "            self.logger(self.text.format(elapsed_time))\n",
    "        if self.name:\n",
    "            self.timers[self.name] += elapsed_time\n",
    "        return elapsed_time\n",
    "            \n",
    "    def __enter__(self):\n",
    "        \"\"\"Start a new timer as a context manager\"\"\"\n",
    "        self.start()\n",
    "        return self\n",
    "    \n",
    "    def __exit__(self, *exc_info):\n",
    "        \"\"\"Stop the context manager timer\"\"\"\n",
    "        self.stop()\n",
    "        \n",
    "    def __call__(self, func):\n",
    "        \"\"\"Support using Timer as a decorator\"\"\"\n",
    "        @functools.wraps(func)\n",
    "        def wrapper_timer(*args, **kwargs):\n",
    "            with self:\n",
    "                return func(*args, **kwargs)\n",
    "\n",
    "        return wrapper_timer\n",
    "\n"
   ]
  },
  {
   "cell_type": "markdown",
   "id": "6732250d",
   "metadata": {},
   "source": [
    ".__call__() uses the fact that Timer is already a context manager to take advantage of the conveniences that you’ve already defined there. Make sure you also import functools at the top of timer.py.\n",
    "\n",
    "You can now use Timer as a decorator:"
   ]
  },
  {
   "cell_type": "code",
   "execution_count": 31,
   "id": "87635656",
   "metadata": {},
   "outputs": [
    {
     "data": {
      "text/plain": [
       "'Penny! '"
      ]
     },
     "execution_count": 31,
     "metadata": {},
     "output_type": "execute_result"
    }
   ],
   "source": [
    "@Timer(text=\"Downloaded the tutorial in {:.2f} seconds\")\n",
    "def knock():\n",
    "    return \"Penny! \"\n",
    "knock()"
   ]
  },
  {
   "cell_type": "code",
   "execution_count": 32,
   "id": "a6a74f50",
   "metadata": {},
   "outputs": [],
   "source": [
    "import time\n",
    "from contextlib import ContextDecorator\n",
    "from dataclasses import dataclass, field\n",
    "from typing import Any, Callable, ClassVar, Dict, Optional\n",
    "\n",
    "class TimerError(Exception):\n",
    "    \"\"\"A custom exception used to report errors in use of Timer class\"\"\"\n",
    "\n",
    "@dataclass\n",
    "class Timer(ContextDecorator):\n",
    "    \"\"\"Time your code using a class, context manager, or decorator\"\"\"\n",
    "\n",
    "    timers: ClassVar[Dict[str, float]] = {}\n",
    "    name: Optional[str] = None\n",
    "    text: str = \"Elapsed time: {:0.4f} seconds\"\n",
    "    logger: Optional[Callable[[str], None]] = print\n",
    "    _start_time: Optional[float] = field(default=None, init=False, repr=False)\n",
    "\n",
    "    def __post_init__(self) -> None:\n",
    "        \"\"\"Initialization: add timer to dict of timers\"\"\"\n",
    "        if self.name:\n",
    "            self.timers.setdefault(self.name, 0)\n",
    "\n",
    "    def start(self) -> None:\n",
    "        \"\"\"Start a new timer\"\"\"\n",
    "        if self._start_time is not None:\n",
    "            raise TimerError(f\"Timer is running. Use .stop() to stop it\")\n",
    "\n",
    "        self._start_time = time.perf_counter()\n",
    "\n",
    "    def stop(self) -> float:\n",
    "        \"\"\"Stop the timer, and report the elapsed time\"\"\"\n",
    "        if self._start_time is None:\n",
    "            raise TimerError(f\"Timer is not running. Use .start() to start it\")\n",
    "\n",
    "        # Calculate elapsed time\n",
    "        elapsed_time = time.perf_counter() - self._start_time\n",
    "        self._start_time = None\n",
    "\n",
    "        # Report elapsed time\n",
    "        if self.logger:\n",
    "            self.logger(self.text.format(elapsed_time))\n",
    "        if self.name:\n",
    "            self.timers[self.name] += elapsed_time\n",
    "\n",
    "        return elapsed_time\n",
    "\n",
    "    def __enter__(self) -> \"Timer\":\n",
    "        \"\"\"Start a new timer as a context manager\"\"\"\n",
    "        self.start()\n",
    "        return self\n",
    "\n",
    "    def __exit__(self, *exc_info: Any) -> None:\n",
    "        \"\"\"Stop the context manager timer\"\"\"\n",
    "        self.stop()"
   ]
  },
  {
   "cell_type": "code",
   "execution_count": null,
   "id": "daab82b3",
   "metadata": {},
   "outputs": [],
   "source": []
  }
 ],
 "metadata": {
  "kernelspec": {
   "display_name": "Python 3 (ipykernel)",
   "language": "python",
   "name": "python3"
  },
  "language_info": {
   "codemirror_mode": {
    "name": "ipython",
    "version": 3
   },
   "file_extension": ".py",
   "mimetype": "text/x-python",
   "name": "python",
   "nbconvert_exporter": "python",
   "pygments_lexer": "ipython3",
   "version": "3.7.1"
  }
 },
 "nbformat": 4,
 "nbformat_minor": 5
}
