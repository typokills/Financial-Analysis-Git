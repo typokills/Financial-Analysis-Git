{
 "cells": [
  {
   "cell_type": "markdown",
   "id": "d4124de0",
   "metadata": {},
   "source": [
    "# Creating the Timer class\n",
    "\n",
    "Note: The underscore (_) prefix of ._start_time is a Python convention. It signals that ._start_time is an internal attribute that users of the Timer class shouldn’t manipulate."
   ]
  },
  {
   "cell_type": "code",
   "execution_count": 35,
   "id": "9e495054",
   "metadata": {},
   "outputs": [],
   "source": [
    "import time\n",
    "\n",
    "class TimerError(Exception):\n",
    "    \"\"\"A custom exception used to report errors in use of Timer class\"\"\"\n",
    "\n",
    "class Timer:\n",
    "    def __init__(self):\n",
    "        self._start_time = None\n",
    "\n",
    "    def start(self):\n",
    "        \"\"\"Start a new timer\"\"\"\n",
    "        if self._start_time is not None:\n",
    "            raise TimerError(f\"Timer is running. Use .stop() to stop it\")\n",
    "\n",
    "        self._start_time = time.perf_counter()\n",
    "\n",
    "    def stop(self):\n",
    "        \"\"\"Stop the timer, and report the elapsed time\"\"\"\n",
    "        if self._start_time is None:\n",
    "            raise TimerError(f\"Timer is not running. Use .start() to start it\")\n",
    "\n",
    "        elapsed_time = time.perf_counter() - self._start_time\n",
    "        self._start_time = None\n",
    "        print(f\"Elapsed time: {elapsed_time:0.4f} seconds\")"
   ]
  },
  {
   "cell_type": "markdown",
   "id": "8a2c2247",
   "metadata": {},
   "source": [
    "# Adding adaptable text\n",
    "\n",
    "Note: If you want to use an f-string to specify .text, then you need to use double curly braces to escape the curly braces that the actual elapsed time will replace.\n",
    "\n",
    "One example would be f\"Finished {task} in {{:0.4f}} seconds\". If the value of task is \"reading\", then this f-string would be evaluated as \"Finished reading in {:0.4f} seconds\"."
   ]
  },
  {
   "cell_type": "code",
   "execution_count": 36,
   "id": "a1646a66",
   "metadata": {},
   "outputs": [
    {
     "name": "stdout",
     "output_type": "stream",
     "text": [
      "You waited 1.0 seconds\n"
     ]
    }
   ],
   "source": [
    "import time\n",
    "\n",
    "class TimerError(Exception):\n",
    "    \"\"\"A custom exception used to report errors in use of Timer class\"\"\"\n",
    "\n",
    "class Timer:\n",
    "    def __init__(self, text=\"Elapsed time: {:0.4f} seconds\"):\n",
    "        self._start_time = None\n",
    "        self.text = text\n",
    "\n",
    "    def start(self):\n",
    "        \"\"\"Start a new timer\"\"\"\n",
    "        if self._start_time is not None:\n",
    "            raise TimerError(f\"Timer is running. Use .stop() to stop it\")\n",
    "\n",
    "        self._start_time = time.perf_counter()\n",
    "\n",
    "    def stop(self):\n",
    "        \"\"\"Stop the timer, and report the elapsed time\"\"\"\n",
    "        if self._start_time is None:\n",
    "            raise TimerError(f\"Timer is not running. Use .start() to start it\")\n",
    "\n",
    "        elapsed_time = time.perf_counter() - self._start_time\n",
    "        self._start_time = None\n",
    "        print(self.text.format(elapsed_time))\n",
    "        \n",
    "t = Timer(text=\"You waited {:.1f} seconds\")\n",
    "t.start()\n",
    "time.sleep(1)\n",
    "t.stop()  # A few seconds later"
   ]
  },
  {
   "cell_type": "markdown",
   "id": "ea4074f4",
   "metadata": {},
   "source": [
    "# Adding logging functions"
   ]
  },
  {
   "cell_type": "code",
   "execution_count": 37,
   "id": "bb5c27a4",
   "metadata": {},
   "outputs": [
    {
     "name": "stderr",
     "output_type": "stream",
     "text": [
      "WARNING:root:Elapsed time: 0.0000 seconds\n"
     ]
    },
    {
     "data": {
      "text/plain": [
       "2.13999992411118e-05"
      ]
     },
     "execution_count": 37,
     "metadata": {},
     "output_type": "execute_result"
    }
   ],
   "source": [
    "import logging\n",
    "\n",
    "class Timer:\n",
    "    def __init__(\n",
    "        self,                                 \n",
    "        text=\"Elapsed time: {:0.4f} seconds\",\n",
    "        logger=print #New\n",
    "    ):\n",
    "        self._start_time = None\n",
    "        self.text = text\n",
    "        self.logger = logger #New\n",
    "\n",
    "    # Other methods are unchanged\n",
    "    def start(self):\n",
    "        \"\"\"Start a new timer\"\"\"\n",
    "        if self._start_time is not None:\n",
    "            raise TimerError(f\"Timer is running. Use .stop() to stop it\")\n",
    "\n",
    "        self._start_time = time.perf_counter()\n",
    "\n",
    "    def stop(self):\n",
    "        \"\"\"Stop the timer, and report the elapsed time\"\"\"\n",
    "        if self._start_time is None:\n",
    "            raise TimerError(f\"Timer is not running. Use .start() to start it\")\n",
    "\n",
    "        elapsed_time = time.perf_counter() - self._start_time\n",
    "        self._start_time = None\n",
    "\n",
    "        if self.logger: #New If you pass None, it wont print.\n",
    "            self.logger(self.text.format(elapsed_time)) \n",
    "\n",
    "        return elapsed_time\n",
    "    \n",
    "t = Timer(logger=logging.warning)\n",
    "t.start()\n",
    "t.stop()"
   ]
  },
  {
   "cell_type": "markdown",
   "id": "25b17d72",
   "metadata": {},
   "source": [
    "# Adding time measurements\n",
    "\n",
    "- Class variables can be accessed either directly on the class or through an instance of the class\n",
    "\n",
    "- Used to keep track of multiple timers"
   ]
  },
  {
   "cell_type": "code",
   "execution_count": 38,
   "id": "fdfcfcf8",
   "metadata": {},
   "outputs": [],
   "source": [
    "import logging\n",
    "\n",
    "class Timer:\n",
    "    \n",
    "    timers = {} #NEW: class variable so all instances of Timer will share it\n",
    "    \n",
    "    def __init__(\n",
    "        self,\n",
    "        name = None,\n",
    "        text=\"Elapsed time: {:0.4f} seconds\",\n",
    "        logger=print \n",
    "    ):\n",
    "        \n",
    "        self._start_time = None\n",
    "        self.name = name\n",
    "        self.text = text\n",
    "        self.logger = logger \n",
    "        \n",
    "    # Add new named timers to dictionary of timers\n",
    "        if name:\n",
    "            self.timers.setdefault(name,0)\n",
    "    \n",
    "    # Other methods are unchanged\n",
    "    def start(self):\n",
    "        \"\"\"Start a new timer\"\"\"\n",
    "        if self._start_time is not None:\n",
    "            raise TimerError(f\"Timer is running. Use .stop() to stop it\")\n",
    "\n",
    "        self._start_time = time.perf_counter()\n",
    "\n",
    "    def stop(self):\n",
    "        \"\"\"Stop the timer, and report the elapsed time\"\"\"\n",
    "        if self._start_time is None:\n",
    "            raise TimerError(f\"Timer is not running. Use .start() to start it\")\n",
    "\n",
    "        elapsed_time = time.perf_counter() - self._start_time\n",
    "        self._start_time = None\n",
    "\n",
    "        if self.logger: #If you pass None, it wont print.\n",
    "            self.logger(self.text.format(elapsed_time)) \n",
    "            \n",
    "        if self.name:\n",
    "            self.timers[self.name] += elapsed_time\n",
    "\n",
    "        return elapsed_time"
   ]
  },
  {
   "cell_type": "code",
   "execution_count": 39,
   "id": "ee3edd07",
   "metadata": {},
   "outputs": [
    {
     "data": {
      "text/plain": [
       "{}"
      ]
     },
     "execution_count": 39,
     "metadata": {},
     "output_type": "execute_result"
    }
   ],
   "source": [
    "# Accessing through Class\n",
    "Timer.timers\n",
    "\n",
    "#Accessing thru instance\n",
    "t = Timer()\n",
    "t.timers"
   ]
  },
  {
   "cell_type": "code",
   "execution_count": 40,
   "id": "ad29bad1",
   "metadata": {},
   "outputs": [
    {
     "name": "stdout",
     "output_type": "stream",
     "text": [
      "Elapsed time: 0.0000 seconds\n",
      "{'accumulate': 3.9999998989515007e-05}\n"
     ]
    }
   ],
   "source": [
    "t = Timer(\"accumulate\")\n",
    "t.start()\n",
    "t.stop()\n",
    "print(Timer.timers)"
   ]
  },
  {
   "cell_type": "markdown",
   "id": "0d15dd24",
   "metadata": {},
   "source": [
    "# Changing timer class to dataclass\n",
    "\n",
    "- The @dataclass decorator defines Timer as a data class.\n",
    "\n",
    "- The special ClassVar annotation is necessary for data classes to specify that .timers is a class variable.\n",
    "\n",
    "- .name, .text, and .logger will be defined as attributes on Timer, whose values can be specified when creating Timer instances. They all have the given default values.\n",
    "\n",
    "- Recall that ._start_time is a special attribute that’s used to keep track of the state of the Python timer, but it should be hidden from the user. Using dataclasses.field(), you say that ._start_time should be removed from .__init__() and the representation of Timer.\n",
    "\n",
    "- You can use the special .__post_init__() method for any initialization that you need to do apart from setting the instance attributes. Here, you use it to add named timers to .timers.\n"
   ]
  },
  {
   "cell_type": "code",
   "execution_count": 41,
   "id": "5ab092f5",
   "metadata": {},
   "outputs": [
    {
     "data": {
      "text/plain": [
       "<__main__.Timer at 0x2395e3b7f98>"
      ]
     },
     "execution_count": 41,
     "metadata": {},
     "output_type": "execute_result"
    }
   ],
   "source": [
    "t = Timer()\n",
    "t"
   ]
  },
  {
   "cell_type": "code",
   "execution_count": 42,
   "id": "4725ef81",
   "metadata": {},
   "outputs": [],
   "source": [
    "import logging\n",
    "import time\n",
    "from dataclasses import dataclass, field\n",
    "from typing import Any, ClassVar\n",
    "\n",
    "@dataclass\n",
    "class Timer:\n",
    "    \n",
    "#New: Replaces .__init__() --------------------------------------\n",
    "    \n",
    "    \n",
    "    timers: ClassVar = {} #Necessary to indicate classvariable\n",
    "    name: Any = None\n",
    "    text: Any = \"Elapsed time: {:0.4f} seconds\"\n",
    "    logger: Any = print\n",
    "    _start_time: Any = field(default=None, init=False, repr=False) #\n",
    "\n",
    "    def __post_init__(self):\n",
    "        \"\"\"Initialization: add timer to dict of timers\"\"\"\n",
    "        if self.name:\n",
    "            self.timers.setdefault(self.name, 0)\n",
    "        \n",
    "        self._start_time = None\n",
    "        self.name = name\n",
    "        self.text = text\n",
    "        self.logger = logger \n",
    "#-------------------------------------------------------------\n",
    "\n",
    "    # Add new named timers to dictionary of timers\n",
    "        if name:\n",
    "            self.timers.setdefault(name,0)\n",
    "    \n",
    "    # Other methods are unchanged\n",
    "    def start(self):\n",
    "        \"\"\"Start a new timer\"\"\"\n",
    "        if self._start_time is not None:\n",
    "            raise TimerError(f\"Timer is running. Use .stop() to stop it\")\n",
    "\n",
    "        self._start_time = time.perf_counter()\n",
    "\n",
    "    def stop(self):\n",
    "        \"\"\"Stop the timer, and report the elapsed time\"\"\"\n",
    "        if self._start_time is None:\n",
    "            raise TimerError(f\"Timer is not running. Use .start() to start it\")\n",
    "\n",
    "        elapsed_time = time.perf_counter() - self._start_time\n",
    "        self._start_time = None\n",
    "\n",
    "        if self.logger: #If you pass None, it wont print.\n",
    "            self.logger(self.text.format(elapsed_time)) \n",
    "            \n",
    "        if self.name:\n",
    "            self.timers[self.name] += elapsed_time\n",
    "\n",
    "        return elapsed_time"
   ]
  },
  {
   "cell_type": "code",
   "execution_count": 44,
   "id": "828dac46",
   "metadata": {},
   "outputs": [
    {
     "data": {
      "text/plain": [
       "Timer()"
      ]
     },
     "execution_count": 44,
     "metadata": {},
     "output_type": "execute_result"
    }
   ],
   "source": [
    "t = Timer()\n",
    "t"
   ]
  },
  {
   "cell_type": "markdown",
   "id": "3ae2f6f7",
   "metadata": {},
   "source": [
    "# Touch ups\n",
    "\n",
    "- Readability: Your code will read more naturally if you carefully choose class and method names.\n",
    "- Consistency: Your code will be easier to use if you encapsulate properties and behaviors into attributes and methods.\n",
    "- Flexibility: Your code will be reusable if you use attributes with default values instead of hard-coded values."
   ]
  },
  {
   "cell_type": "code",
   "execution_count": 45,
   "id": "ab381237",
   "metadata": {},
   "outputs": [],
   "source": [
    "from dataclasses import dataclass, field\n",
    "import time\n",
    "from typing import Callable, ClassVar, Dict, Optional\n",
    "\n",
    "class TimerError(Exception):\n",
    "    \"\"\"A custom exception used to report errors in use of Timer class\"\"\"\n",
    "\n",
    "@dataclass\n",
    "class Timer:\n",
    "    timers: ClassVar[Dict[str, float]] = {}\n",
    "    name: Optional[str] = None\n",
    "    text: str = \"Elapsed time: {:0.4f} seconds\"\n",
    "    logger: Optional[Callable[[str], None]] = print\n",
    "    _start_time: Optional[float] = field(default=None, init=False, repr=False)\n",
    "\n",
    "    def __post_init__(self) -> None:\n",
    "        \"\"\"Add timer to dict of timers after initialization\"\"\"\n",
    "        if self.name is not None:\n",
    "            self.timers.setdefault(self.name, 0)\n",
    "\n",
    "    def start(self) -> None:\n",
    "        \"\"\"Start a new timer\"\"\"\n",
    "        if self._start_time is not None:\n",
    "            raise TimerError(f\"Timer is running. Use .stop() to stop it\")\n",
    "\n",
    "        self._start_time = time.perf_counter()\n",
    "\n",
    "    def stop(self) -> float:\n",
    "        \"\"\"Stop the timer, and report the elapsed time\"\"\"\n",
    "        if self._start_time is None:\n",
    "            raise TimerError(f\"Timer is not running. Use .start() to start it\")\n",
    "\n",
    "        # Calculate elapsed time\n",
    "        elapsed_time = time.perf_counter() - self._start_time\n",
    "        self._start_time = None\n",
    "\n",
    "        # Report elapsed time\n",
    "        if self.logger:\n",
    "            self.logger(self.text.format(elapsed_time))\n",
    "        if self.name:\n",
    "            self.timers[self.name] += elapsed_time\n",
    "\n",
    "        return elapsed_time"
   ]
  },
  {
   "cell_type": "markdown",
   "id": "5df645b3",
   "metadata": {},
   "source": [
    "# Python Timer Context Manager"
   ]
  },
  {
   "cell_type": "code",
   "execution_count": null,
   "id": "1d88e0d6",
   "metadata": {},
   "outputs": [],
   "source": []
  }
 ],
 "metadata": {
  "kernelspec": {
   "display_name": "Python 3 (ipykernel)",
   "language": "python",
   "name": "python3"
  },
  "language_info": {
   "codemirror_mode": {
    "name": "ipython",
    "version": 3
   },
   "file_extension": ".py",
   "mimetype": "text/x-python",
   "name": "python",
   "nbconvert_exporter": "python",
   "pygments_lexer": "ipython3",
   "version": "3.7.1"
  }
 },
 "nbformat": 4,
 "nbformat_minor": 5
}
