{
 "cells": [
  {
   "cell_type": "markdown",
   "metadata": {},
   "source": [
    "## Printing integers with spaces"
   ]
  },
  {
   "cell_type": "code",
   "execution_count": 5,
   "metadata": {},
   "outputs": [
    {
     "name": "stdout",
     "output_type": "stream",
     "text": [
      "1 2 3 4 5 6 7 8 9 "
     ]
    }
   ],
   "source": [
    "for each in [1,2,3,4,5,6,7,8,9]: \n",
    "    print(each, end=' ') \n",
    " \n",
    "list1 = [1,2,3,4,5,6,7,8,9] \n",
    "# print(*list1) "
   ]
  },
  {
   "cell_type": "code",
   "execution_count": 12,
   "metadata": {},
   "outputs": [
    {
     "data": {
      "text/plain": [
       "'example'"
      ]
     },
     "execution_count": 12,
     "metadata": {},
     "output_type": "execute_result"
    }
   ],
   "source": [
    "'   spacious   '.strip()\n",
    "# 'spacious'\n",
    "\"AABAA\".strip(\"A\")\n",
    "# 'B'\n",
    "\"ABBA\".strip(\"AB\")\n",
    "# ''\n",
    "\"ABCABBA\".strip(\"AB\")\n",
    "# 'C'\n",
    "'www.example.com'.strip('cmowz.') # this example extracts web address\n",
    "# 'example'"
   ]
  },
  {
   "cell_type": "markdown",
   "metadata": {},
   "source": [
    "# How to make python run faster"
   ]
  },
  {
   "cell_type": "code",
   "execution_count": 30,
   "metadata": {},
   "outputs": [],
   "source": [
    "# Use built-in functions\n",
    "\n",
    "wordlist = ['hi','bye']\n",
    "newlist = []\n",
    "\n",
    "for word in wordlist:\n",
    "    newlist.append(word.upper())\n",
    "    \n",
    "\n",
    "newlist = map(str.upper, wordlist)"
   ]
  },
  {
   "cell_type": "code",
   "execution_count": 38,
   "metadata": {},
   "outputs": [],
   "source": [
    "# Use List comprehension instead of loops\n",
    "\n",
    "newlist = []\n",
    "for i in range(1, 100):\n",
    "    if i % 2 == 0:\n",
    "        newlist.append(i**2)\n",
    "\n",
    "# Faster\n",
    "newlist = [i**2 for i in range(1, 100) if i%2==0]"
   ]
  },
  {
   "cell_type": "code",
   "execution_count": 60,
   "metadata": {},
   "outputs": [
    {
     "name": "stdout",
     "output_type": "stream",
     "text": [
      "Import all: 8.420000085607171e-05\n",
      "Import some: 5.100000271340832e-05\n",
      "% Diff: 39.42992613434079\n"
     ]
    }
   ],
   "source": [
    "# Only import from modules and libraries what you need.\n",
    "import math\n",
    "from math import sqrt\n",
    "\n",
    "start_time = time.perf_counter()\n",
    "value = math.sqrt(50)\n",
    "end_time = time.perf_counter()\n",
    "all_time = end_time - start_time\n",
    "\n",
    "print(\"Import all: \" + str(end_time - start_time))\n",
    "\n",
    "#Faster\n",
    "\n",
    "start_time = time.perf_counter()\n",
    "value = sqrt(50)\n",
    "end_time = time.perf_counter()\n",
    "some_time = end_time - start_time\n",
    "print(\"Import some: \" + str(end_time - start_time))\n",
    "print(\"% Diff: \" + str((all_time - some_time) / all_time * 100))"
   ]
  },
  {
   "cell_type": "code",
   "execution_count": 43,
   "metadata": {},
   "outputs": [],
   "source": [
    "# Use Join instead of + for string concatenation\n",
    "\n",
    "output = \"Programming\" + \"is\" + \"fun\"\n",
    "\n",
    "output = \" \".join([\"Programming\" , \"is\", \"fun\"])"
   ]
  },
  {
   "cell_type": "markdown",
   "metadata": {},
   "source": [
    "# Python Timer"
   ]
  },
  {
   "cell_type": "code",
   "execution_count": 53,
   "metadata": {},
   "outputs": [
    {
     "name": "stdout",
     "output_type": "stream",
     "text": [
      "2.2700005501974374e-05\n"
     ]
    }
   ],
   "source": [
    "import time\n",
    "\n",
    "start_time = time.perf_counter()\n",
    "end_time = time.perf_counter()\n",
    "time_taken = end_time - start_time\n",
    "print(time_taken)"
   ]
  },
  {
   "cell_type": "code",
   "execution_count": 68,
   "metadata": {},
   "outputs": [
    {
     "name": "stdout",
     "output_type": "stream",
     "text": [
      "Elapsed time: 2.0063 seconds\n"
     ]
    }
   ],
   "source": [
    "#Timer Class\n",
    "\n",
    "import time\n",
    "\n",
    "class TimerError(Exception): #Inherits from the Exception Class to create a custom error\n",
    "    \"\"\"A custom exception used to report errors in use of Timer class\"\"\"\n",
    "\n",
    "class Timer:\n",
    "    def __init__(self):\n",
    "        self._start_time = None\n",
    "\n",
    "    def start(self):\n",
    "        \"\"\"Start a new timer\"\"\"\n",
    "        if self._start_time is not None:\n",
    "            raise TimerError(f\"Timer is running. Use .stop() to stop it\")\n",
    "\n",
    "        self._start_time = time.perf_counter() \n",
    "        #Note: The underscore (_) prefix of ._start_time is a Python convention. \n",
    "        #It signals that ._start_time is an internal attribute that users of the Timer class shouldn’t manipulate.\n",
    "\n",
    "    def stop(self):\n",
    "        \"\"\"Stop the timer, and report the elapsed time\"\"\"\n",
    "        if self._start_time is None:\n",
    "            raise TimerError(f\"Timer is not running. Use .start() to start it\")\n",
    "\n",
    "        elapsed_time = time.perf_counter() - self._start_time\n",
    "        self._start_time = None\n",
    "        print(f\"Elapsed time: {elapsed_time:0.4f} seconds\")\n",
    "\n",
    "t = Timer()\n",
    "t.start()\n",
    "time.sleep(2)\n",
    "t.stop()"
   ]
  },
  {
   "cell_type": "code",
   "execution_count": null,
   "metadata": {},
   "outputs": [],
   "source": []
  },
  {
   "cell_type": "markdown",
   "metadata": {},
   "source": [
    "# Inserting numbers into strings"
   ]
  },
  {
   "cell_type": "code",
   "execution_count": 61,
   "metadata": {},
   "outputs": [
    {
     "name": "stdout",
     "output_type": "stream",
     "text": [
      "Downloaded the tutorial in -0.0001 seconds\n"
     ]
    }
   ],
   "source": [
    "print(f\"Downloaded the tutorial in {start_time - end_time:0.4f} seconds\")"
   ]
  },
  {
   "cell_type": "code",
   "execution_count": null,
   "metadata": {},
   "outputs": [],
   "source": []
  }
 ],
 "metadata": {
  "kernelspec": {
   "display_name": "Python 3 (ipykernel)",
   "language": "python",
   "name": "python3"
  },
  "language_info": {
   "codemirror_mode": {
    "name": "ipython",
    "version": 3
   },
   "file_extension": ".py",
   "mimetype": "text/x-python",
   "name": "python",
   "nbconvert_exporter": "python",
   "pygments_lexer": "ipython3",
   "version": "3.7.1"
  }
 },
 "nbformat": 4,
 "nbformat_minor": 4
}
