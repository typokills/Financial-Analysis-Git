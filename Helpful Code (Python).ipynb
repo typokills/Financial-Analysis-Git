{
 "cells": [
  {
   "cell_type": "markdown",
   "metadata": {},
   "source": [
    "## Printing integers with spaces"
   ]
  },
  {
   "cell_type": "code",
   "execution_count": 7,
   "metadata": {},
   "outputs": [
    {
     "name": "stdout",
     "output_type": "stream",
     "text": [
      "1 2 3 4 5 6 7 8 9 "
     ]
    }
   ],
   "source": [
    "for each in [1,2,3,4,5,6,7,8,9]: \n",
    "    print(each, end=' ') \n",
    " \n",
    "list1 = [1,2,3,4,5,6,7,8,9] \n",
    "# print(*list1) "
   ]
  },
  {
   "cell_type": "code",
   "execution_count": 8,
   "metadata": {},
   "outputs": [
    {
     "data": {
      "text/plain": [
       "'example'"
      ]
     },
     "execution_count": 8,
     "metadata": {},
     "output_type": "execute_result"
    }
   ],
   "source": [
    "'   spacious   '.strip()\n",
    "# 'spacious'\n",
    "\"AABAA\".strip(\"A\")\n",
    "# 'B'\n",
    "\"ABBA\".strip(\"AB\")\n",
    "# ''\n",
    "\"ABCABBA\".strip(\"AB\")\n",
    "# 'C'\n",
    "'www.example.com'.strip('cmowz.') # this example extracts web address\n",
    "# 'example'"
   ]
  },
  {
   "cell_type": "markdown",
   "metadata": {},
   "source": [
    "# How to make python run faster"
   ]
  },
  {
   "cell_type": "code",
   "execution_count": 9,
   "metadata": {},
   "outputs": [],
   "source": [
    "# Use built-in functions\n",
    "\n",
    "wordlist = ['hi','bye']\n",
    "newlist = []\n",
    "\n",
    "for word in wordlist:\n",
    "    newlist.append(word.upper())\n",
    "    \n",
    "\n",
    "newlist = map(str.upper, wordlist)"
   ]
  },
  {
   "cell_type": "code",
   "execution_count": 10,
   "metadata": {},
   "outputs": [],
   "source": [
    "# Use List comprehension instead of loops\n",
    "\n",
    "newlist = []\n",
    "for i in range(1, 100):\n",
    "    if i % 2 == 0:\n",
    "        newlist.append(i**2)\n",
    "\n",
    "# Faster\n",
    "newlist = [i**2 for i in range(1, 100) if i%2==0]"
   ]
  },
  {
   "cell_type": "code",
   "execution_count": 11,
   "metadata": {},
   "outputs": [
    {
     "name": "stdout",
     "output_type": "stream",
     "text": [
      "Import all: 4.1799999998204385e-05\n",
      "Import some: 5.390000000105033e-05\n",
      "% Diff: -28.947368429104614\n"
     ]
    }
   ],
   "source": [
    "# Only import from modules and libraries what you need.\n",
    "import math\n",
    "from math import sqrt\n",
    "import time\n",
    "\n",
    "start_time = time.perf_counter()\n",
    "value = math.sqrt(50)\n",
    "end_time = time.perf_counter()\n",
    "all_time = end_time - start_time\n",
    "\n",
    "print(\"Import all: \" + str(end_time - start_time))\n",
    "\n",
    "#Faster\n",
    "\n",
    "start_time = time.perf_counter()\n",
    "value = sqrt(50)\n",
    "end_time = time.perf_counter()\n",
    "some_time = end_time - start_time\n",
    "print(\"Import some: \" + str(end_time - start_time))\n",
    "print(\"% Diff: \" + str((all_time - some_time) / all_time * 100))"
   ]
  },
  {
   "cell_type": "code",
   "execution_count": 12,
   "metadata": {},
   "outputs": [],
   "source": [
    "# Use Join instead of + for string concatenation\n",
    "\n",
    "output = \"Programming\" + \"is\" + \"fun\"\n",
    "\n",
    "output = \" \".join([\"Programming\" , \"is\", \"fun\"])"
   ]
  },
  {
   "cell_type": "markdown",
   "metadata": {},
   "source": [
    "# Python Timer"
   ]
  },
  {
   "cell_type": "code",
   "execution_count": 13,
   "metadata": {},
   "outputs": [
    {
     "name": "stdout",
     "output_type": "stream",
     "text": [
      "4.299999999801685e-05\n"
     ]
    }
   ],
   "source": [
    "import time\n",
    "\n",
    "start_time = time.perf_counter()\n",
    "end_time = time.perf_counter()\n",
    "time_taken = end_time - start_time\n",
    "print(time_taken)"
   ]
  },
  {
   "cell_type": "code",
   "execution_count": 14,
   "metadata": {},
   "outputs": [
    {
     "name": "stdout",
     "output_type": "stream",
     "text": [
      "Elapsed time: 2.0036 seconds\n"
     ]
    }
   ],
   "source": [
    "#Timer Class\n",
    "\n",
    "import time\n",
    "\n",
    "class TimerError(Exception): #Inherits from the Exception Class to create a custom error\n",
    "    \"\"\"A custom exception used to report errors in use of Timer class\"\"\"\n",
    "\n",
    "class Timer:\n",
    "    def __init__(self, text=\"Elapsed time: {:0.4f} seconds\"): \n",
    "        #text is given as a string as f-strings evaluate immediately, and when you instantiate Timer, your code hasn’t yet calculated the elapsed time.\n",
    "        #text output can be edited now with t = Timer(text=\"You waited {:.1f} seconds\")\n",
    "        \n",
    "        #Instance variables\n",
    "        self._start_time = None\n",
    "        self.text = text\n",
    "\n",
    "    def start(self):\n",
    "        \"\"\"Start a new timer\"\"\"\n",
    "        if self._start_time is not None:\n",
    "            raise TimerError(f\"Timer is running. Use .stop() to stop it\")\n",
    "\n",
    "        self._start_time = time.perf_counter() \n",
    "        #Note: The underscore (_) prefix of ._start_time is a Python convention. \n",
    "        #It signals that ._start_time is an internal attribute that users of the Timer class shouldn’t manipulate.\n",
    "\n",
    "    def stop(self):\n",
    "        \"\"\"Stop the timer, and report the elapsed time\"\"\"\n",
    "        if self._start_time is None:\n",
    "            raise TimerError(f\"Timer is not running. Use .start() to start it\")\n",
    "\n",
    "        elapsed_time = time.perf_counter() - self._start_time\n",
    "        self._start_time = None\n",
    "        print(self.text.format(elapsed_time))\n",
    "\n",
    "t = Timer()\n",
    "t.start()\n",
    "time.sleep(2)\n",
    "t.stop()"
   ]
  },
  {
   "cell_type": "code",
   "execution_count": null,
   "metadata": {},
   "outputs": [],
   "source": []
  },
  {
   "cell_type": "markdown",
   "metadata": {},
   "source": [
    "# Inserting numbers into strings"
   ]
  },
  {
   "cell_type": "code",
   "execution_count": 15,
   "metadata": {},
   "outputs": [
    {
     "name": "stdout",
     "output_type": "stream",
     "text": [
      "Downloaded the tutorial in -0.0000 seconds\n"
     ]
    }
   ],
   "source": [
    "print(f\"Downloaded the tutorial in {start_time - end_time:0.4f} seconds\")"
   ]
  },
  {
   "cell_type": "markdown",
   "metadata": {},
   "source": [
    "# Object Oriented Programming"
   ]
  },
  {
   "cell_type": "code",
   "execution_count": 16,
   "metadata": {},
   "outputs": [
    {
     "name": "stdout",
     "output_type": "stream",
     "text": [
      "Miles is 4 years old\n"
     ]
    }
   ],
   "source": [
    "class Dog:\n",
    "    species = \"Canis familiaris\"\n",
    "\n",
    "    def __init__(self, name, age):\n",
    "        self.name = name\n",
    "        self.age = age\n",
    "\n",
    "#     # Instance method\n",
    "#     def description(self):\n",
    "#         return f\"{self.name} is {self.age} years old\"\n",
    "\n",
    "    # Another instance method\n",
    "    def speak(self, sound):\n",
    "        return f\"{self.name} says {sound}\"\n",
    "    \n",
    "    def __str__(self): #Creates description for class to call using ?\n",
    "        return f\"{self.name} is {self.age} years old\"\n",
    "    \n",
    "miles = Dog(\"Miles\", 4)\n",
    "print(miles)"
   ]
  },
  {
   "cell_type": "markdown",
   "metadata": {},
   "source": [
    "# Dictionaries"
   ]
  },
  {
   "cell_type": "code",
   "execution_count": 17,
   "metadata": {},
   "outputs": [],
   "source": [
    "#Defining Dicts\n",
    "squares = {x: x * x for x in range(6)}\n",
    "phonebook = {\n",
    "\"bob\": 7387,\n",
    "\"alice\": 3719,\n",
    "\"jack\": 7052,\n",
    "}"
   ]
  },
  {
   "cell_type": "markdown",
   "metadata": {},
   "source": [
    "# defaultdict\n",
    "The defaultdict class is another dictionary subclass that accepts a callable in its constructor whose return value will be used if a requested key cannot be found.\n",
    "\n",
    "This can save you some typing and make your intentions clearer as compared to using get() or catching a KeyError exception in regular dictionaries"
   ]
  },
  {
   "cell_type": "code",
   "execution_count": 18,
   "metadata": {},
   "outputs": [
    {
     "data": {
      "text/plain": [
       "['Rufus', 'Kathrin', 'Mr Sniffles']"
      ]
     },
     "execution_count": 18,
     "metadata": {},
     "output_type": "execute_result"
    }
   ],
   "source": [
    "from collections import defaultdict\n",
    "dd = defaultdict(list)\n",
    "\n",
    "# Accessing a missing key creates it and\n",
    "# initializes it using the default factory,\n",
    "# i.e. list() in this example:\n",
    "dd[\"dogs\"].append(\"Rufus\")\n",
    "dd[\"dogs\"].append(\"Kathrin\")\n",
    "dd[\"dogs\"].append(\"Mr Sniffles\")\n",
    "\n",
    "dd[\"dogs\"]"
   ]
  },
  {
   "cell_type": "markdown",
   "metadata": {},
   "source": [
    "# ChainMap\n",
    "The collections.ChainMap data structure groups multiple dictionaries into a single mapping. Lookups search the underlying mappings one by one until a key is found. Insertions, updates, and deletions only affect the first mapping added to the chain"
   ]
  },
  {
   "cell_type": "code",
   "execution_count": 19,
   "metadata": {},
   "outputs": [
    {
     "name": "stdout",
     "output_type": "stream",
     "text": [
      "ChainMap({'one': 1, 'two': 2}, {'three': 3, 'four': 4})\n",
      "3\n",
      "1\n"
     ]
    }
   ],
   "source": [
    "from collections import ChainMap\n",
    "dict1 = {\"one\": 1, \"two\": 2}\n",
    "dict2 = {\"three\": 3, \"four\": 4}\n",
    "chain = ChainMap(dict1, dict2)\n",
    "\n",
    "print(chain)\n",
    "# ChainMap searches each collection in the chain\n",
    "# from left to right until it finds the key (or fails):\n",
    "print(chain[\"three\"])\n",
    "print(chain[\"one\"])\n",
    "# print(chain[\"missing\"])"
   ]
  },
  {
   "cell_type": "markdown",
   "metadata": {},
   "source": [
    "# MappingProxyType\n",
    "Immutable Dictionary\n",
    "\n",
    "Can be helpful if, for example, you’d like to return a dictionary carrying internal state from a class or module while discouraging write access to this object. \n",
    "\n",
    "Using MappingProxyType allows you to put these restrictions in place without first having to create a full copy of the dictionary"
   ]
  },
  {
   "cell_type": "code",
   "execution_count": 20,
   "metadata": {},
   "outputs": [
    {
     "name": "stdout",
     "output_type": "stream",
     "text": [
      "1\n"
     ]
    }
   ],
   "source": [
    "from types import MappingProxyType\n",
    "writable = {\"one\": 1, \"two\": 2}\n",
    "read_only = MappingProxyType(writable)\n",
    "\n",
    "# The proxy is read-only:\n",
    "print(read_only[\"one\"])"
   ]
  },
  {
   "cell_type": "code",
   "execution_count": 21,
   "metadata": {},
   "outputs": [],
   "source": [
    "# read_only[\"one\"] = 23"
   ]
  },
  {
   "cell_type": "code",
   "execution_count": 22,
   "metadata": {},
   "outputs": [
    {
     "data": {
      "text/plain": [
       "mappingproxy({'one': 42, 'two': 2})"
      ]
     },
     "execution_count": 22,
     "metadata": {},
     "output_type": "execute_result"
    }
   ],
   "source": [
    "# Updates to the original are reflected in the proxy:\n",
    "writable[\"one\"] = 42\n",
    "read_only"
   ]
  },
  {
   "cell_type": "markdown",
   "metadata": {},
   "source": [
    "# Array"
   ]
  },
  {
   "cell_type": "code",
   "execution_count": null,
   "metadata": {},
   "outputs": [],
   "source": []
  },
  {
   "cell_type": "code",
   "execution_count": null,
   "metadata": {},
   "outputs": [],
   "source": []
  },
  {
   "cell_type": "code",
   "execution_count": null,
   "metadata": {},
   "outputs": [],
   "source": []
  }
 ],
 "metadata": {
  "kernelspec": {
   "display_name": "Python 3 (ipykernel)",
   "language": "python",
   "name": "python3"
  },
  "language_info": {
   "codemirror_mode": {
    "name": "ipython",
    "version": 3
   },
   "file_extension": ".py",
   "mimetype": "text/x-python",
   "name": "python",
   "nbconvert_exporter": "python",
   "pygments_lexer": "ipython3",
   "version": "3.7.1"
  }
 },
 "nbformat": 4,
 "nbformat_minor": 4
}
